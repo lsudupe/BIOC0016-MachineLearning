{
  "cells": [
    {
      "cell_type": "markdown",
      "metadata": {
        "id": "view-in-github",
        "colab_type": "text"
      },
      "source": [
        "<a href=\"https://colab.research.google.com/github/lsudupe/BIOC0016-MachineLearning/blob/master/Foundational/Level_1.ipynb\" target=\"_parent\"><img src=\"https://colab.research.google.com/assets/colab-badge.svg\" alt=\"Open In Colab\"/></a>"
      ]
    },
    {
      "cell_type": "markdown",
      "id": "6c517a31-6abf-4859-8c9f-5fac5dac5fa6",
      "metadata": {
        "id": "6c517a31-6abf-4859-8c9f-5fac5dac5fa6"
      },
      "source": [
        "# Foundational Python programming skills: Level 1\n",
        "\n",
        "## Level 1 Exercises are meant for you to practice very basic python concepts such as:\n",
        "        1. Working with different data structures\n",
        "        2. Loops\n",
        "        3. Conditional statements\n",
        "        \n",
        "### These concepts are critical and are your understanding of the topic is taken for granted for any employer in your field.\n",
        "\n",
        "\n",
        "## Instructions:\n",
        "      1. Implement the code required to complete the task.\n",
        "      2. The use of any code assistant or LLM is forbidden. Use of the web to research is allowed. But keep in mind: copy-pasting completed solutions is backfiring on yourself\n",
        "      3. Run all code cells with the expected output for the notebook to represent all outputs\n",
        "      4. Deliver your solution following the repository's guideline for contributions"
      ]
    },
    {
      "metadata": {
        "id": "f25421da-ef26-47bb-94d3-b2f5ed6dedf5"
      },
      "cell_type": "markdown",
      "source": [
        "## 1) Working with numbers\n",
        "Write a Python program that performs the following mathematical operations on two given numbers:\n",
        "\n",
        "Subtract the second number from the first.\n",
        "\n",
        "Raise the result to the power of the first number.\n",
        "\n",
        "Multiply the result by 12.5.\n",
        "\n",
        "Take the absolute value of the result and divide it by 12.22.\n",
        "\n",
        "Round the final result to 2 decimal places.\n",
        "\n",
        "Find the floor value of the rounded result.\n"
      ],
      "id": "f25421da-ef26-47bb-94d3-b2f5ed6dedf5"
    },
    {
      "cell_type": "code",
      "id": "e833ee05-4d15-4f88-aa76-73f37c38b0a5",
      "metadata": {
        "ExecuteTime": {
          "end_time": "2025-01-26T08:57:06.020794Z",
          "start_time": "2025-01-26T08:57:06.018778Z"
        },
        "id": "e833ee05-4d15-4f88-aa76-73f37c38b0a5",
        "outputId": "a056d959-9ab3-4c74-ec15-dfe1fbcee573",
        "colab": {
          "base_uri": "https://localhost:8080/"
        }
      },
      "source": [
        "from decimal import Decimal\n",
        "\n",
        "\n",
        "num_1 = 5\n",
        "num_2 = 10.5\n",
        "\n",
        "\n",
        "#substract the second number from the first\n",
        "sub = num_1 - num_2\n",
        "sub\n",
        "#raise the result to the power of the first number\n",
        "powered = pow(sub,num_1)\n",
        "powered\n",
        "#multiply\n",
        "multi = powered*12.5\n",
        "multi\n",
        "#Take the absolute value of the result and divide it by 12.22\n",
        "abs_value = abs(multi)\n",
        "abs_value\n",
        "#Divide it by 12.22\n",
        "divided_value = abs_value/12.22\n",
        "#round the result to 2\n",
        "rounded_value = round(divided_value,2)\n",
        "floated = float(rounded_value)\n",
        "#float\n",
        "print(\"Here the type value of the number\", floated ,type(floated))\n"
      ],
      "outputs": [
        {
          "output_type": "stream",
          "name": "stdout",
          "text": [
            "Here the type value of the number 5148.16 <class 'float'>\n"
          ]
        }
      ],
      "execution_count": 1
    },
    {
      "cell_type": "markdown",
      "id": "b97a2e67-3179-4606-9445-23fc071ce415",
      "metadata": {
        "id": "b97a2e67-3179-4606-9445-23fc071ce415"
      },
      "source": [
        "## 2) Working with lists\n",
        "You have 2 lists:\n",
        "\n",
        "<li>list_1 = [\"a\", \"b\", \"c\"]\n",
        "\n",
        "<li>list_2 = [1, 2, 3, 3, 4]\n",
        "<br><br>\n",
        "\n",
        "Print the first element of the list list_1 list.\n",
        "\n",
        "Print the third element starting from the right of list_2\n",
        "    \n",
        "Print the number that has the maximum value in list_2\n",
        "    \n",
        "Create a list called list_cat that is the concatenation of the two lists.\n",
        "    \n",
        "Add to a new element to list_cat whose value is 12.5\n",
        "\n",
        "Print the length of list_cat   \n",
        "\n",
        "Replace item number 3 of list_cat with the value \"x\".\n",
        "    \n",
        "Remove the item with index 2 from list_cat\n",
        "    \n",
        "Create a new variable named list_1_sorted with the sorted version of list_1"
      ]
    },
    {
      "cell_type": "code",
      "id": "ea4c2abd-5c18-4e91-b878-6ac1e456040e",
      "metadata": {
        "ExecuteTime": {
          "end_time": "2025-01-26T08:57:06.354857Z",
          "start_time": "2025-01-26T08:57:06.352630Z"
        },
        "id": "ea4c2abd-5c18-4e91-b878-6ac1e456040e",
        "outputId": "096b499c-36d3-4ecb-ff53-9766ca94704f",
        "colab": {
          "base_uri": "https://localhost:8080/"
        }
      },
      "source": [
        "import numpy as np\n",
        "\n",
        "list_1 = [\"a\", \"b\", \"c\"]\n",
        "list_2 = [1, 2, 3, 3, 4]\n",
        "\n",
        "#Print the first element of the list list_1 list.\n",
        "print(list_1[0])\n",
        "#Print the third element starting from the right of list_2\n",
        "print(list_2[-2])\n",
        "#Print the number that has the maximum value in list_2\n",
        "print(max(list_2))\n",
        "#Create a list called list_cat that is the concatenation of the two lists.\n",
        "list_cat = list_1 + list_2\n",
        "print(list_cat)\n",
        "#Add to a new element to list_cat whose value is 12.5\n",
        "list_cat.append(int(12.5))\n",
        "print(list_cat)\n",
        "#Print the length of list_cat\n",
        "print(len(list_cat))\n",
        "#Replace item number 3 of list_cat with the value \"x\".\n",
        "list_replace = list_cat.copy()\n",
        "list_replace[2] = \"x\"\n",
        "print(list_replace)\n",
        "#Remove the item with index 2 from list_cat\n",
        "list_cat_remove = list_replace.copy()\n",
        "list_cat_remove.pop(2)\n",
        "print(list_cat_remove)\n",
        "#Create a new variable named list_1_sorted with the sorted version of list_1\n",
        "list_1_sorted = sorted(list_1)\n",
        "print(list_1_sorted)\n"
      ],
      "outputs": [
        {
          "output_type": "stream",
          "name": "stdout",
          "text": [
            "a\n",
            "3\n",
            "4\n",
            "['a', 'b', 'c', 1, 2, 3, 3, 4]\n",
            "['a', 'b', 'c', 1, 2, 3, 3, 4, 12]\n",
            "9\n",
            "['a', 'b', 'x', 1, 2, 3, 3, 4, 12]\n",
            "['a', 'b', 1, 2, 3, 3, 4, 12]\n",
            "['a', 'b', 'c']\n"
          ]
        }
      ],
      "execution_count": null
    },
    {
      "cell_type": "markdown",
      "id": "f9fef494-7cb0-4164-9dd8-fc0b04d26f7d",
      "metadata": {
        "id": "f9fef494-7cb0-4164-9dd8-fc0b04d26f7d"
      },
      "source": [
        "## 3) Working with tuples\n",
        "\n",
        "Try to do all the above steps but using tuples, some of them might fail.\n",
        " Handle any potential exception thrown, and print the error with, with a custom text briefly explaining why this happens and what is the utility of this behavior"
      ]
    },
    {
      "cell_type": "code",
      "id": "84db6b5b-ad13-4ae5-ac8b-82359447e3b0",
      "metadata": {
        "ExecuteTime": {
          "end_time": "2025-01-26T08:57:06.729375Z",
          "start_time": "2025-01-26T08:57:06.725471Z"
        },
        "id": "84db6b5b-ad13-4ae5-ac8b-82359447e3b0"
      },
      "source": [
        "tuple_1 = (\"a\", \"b\", \"c\")\n",
        "tuple_2 = (1, 2, 3, 3, 4)"
      ],
      "outputs": [],
      "execution_count": null
    },
    {
      "cell_type": "code",
      "source": [
        "#Print the first element of the list list_1 list.\n",
        "print(tuple_1[0])\n",
        "# #Print the third element starting from the right of list_2\n",
        "print(tuple_2[-2])\n",
        "# #Print the number that has the maximum value in list_2\n",
        "print(max(tuple_2))\n",
        "# #Create a list called list_cat that is the concatenation of the two lists.\n",
        "tuple_cat = tuple_1 + tuple_2\n",
        "print(tuple_cat)\n",
        "\n",
        "# #Add to a new element to list_cat whose value is 12.5\n",
        "new = (12.5,)\n",
        "tuple_new = tuple_cat + new\n",
        "tuple_new\n",
        "\n",
        "#Print the length of list_cat\n",
        "print(len(tuple_cat))\n",
        "\n",
        "#Replace item number 3 of list_cat with the value \"x\".\n",
        "tuple_replace = tuple(tuple_cat)\n",
        "\n",
        "try:\n",
        "  tuple_replace[2] = \"x\"\n",
        "  print(tuple_replace)\n",
        "except Exception as e:\n",
        "  print(e)\n",
        "\n",
        "#Remove the item with index 2 from list_cat\n",
        "list_replace = list(tuple_replace)\n",
        "list_replace.pop(2)\n",
        "final_tuple = tuple(list_replace)\n",
        "final_tuple\n",
        "\n",
        "#Create a new variable named list_1_sorted with the sorted version of list_1\n",
        "list_replace2 = list(final_tuple)\n",
        "\n",
        "try:\n",
        "  list_sorted = sorted(list_replace2)\n",
        "except Exception as e:\n",
        "  print(e)\n"
      ],
      "metadata": {
        "id": "c3AMHWt1Mpmn",
        "outputId": "5a65b301-3faf-410b-c90c-5d339029f588",
        "colab": {
          "base_uri": "https://localhost:8080/"
        }
      },
      "id": "c3AMHWt1Mpmn",
      "execution_count": null,
      "outputs": [
        {
          "output_type": "stream",
          "name": "stdout",
          "text": [
            "a\n",
            "3\n",
            "4\n",
            "('a', 'b', 'c', 1, 2, 3, 3, 4)\n",
            "8\n",
            "'tuple' object does not support item assignment\n",
            "'<' not supported between instances of 'int' and 'str'\n"
          ]
        }
      ]
    },
    {
      "cell_type": "code",
      "source": [
        "\n",
        "lista = [1, 2]\n",
        "\n",
        "\n",
        "try:\n",
        "  lista[3]\n",
        "except Exception as e:\n",
        "  print(\"The error has been\", e)\n"
      ],
      "metadata": {
        "id": "XT8l9JqxKXb3",
        "outputId": "fa5dc4f5-b92b-4e7a-b8be-468be492fa4f",
        "colab": {
          "base_uri": "https://localhost:8080/"
        }
      },
      "id": "XT8l9JqxKXb3",
      "execution_count": null,
      "outputs": [
        {
          "output_type": "stream",
          "name": "stdout",
          "text": [
            "The error has been list index out of range\n"
          ]
        }
      ]
    },
    {
      "cell_type": "markdown",
      "id": "5155fb89-0213-4d4d-aa06-85b11009e5b9",
      "metadata": {
        "id": "5155fb89-0213-4d4d-aa06-85b11009e5b9"
      },
      "source": [
        "## 4) Working with dictionaries\n",
        "Create an empty dictionary and fill it with this data (key-value pairs):\n",
        "\n",
        "<li> \"58195348N\": \"Pepito Pérez\".\n",
        "<li> \"96173220P\": \"Juanito Martínez\".\n",
        "<li> \"43740289Q\": \"Adolfo Rodríguez\".\n",
        "<li> \"41588605M\": \"Roberto García\".\n",
        "<br><br>\n",
        "    \n",
        "Query the dictionary, what is the name of the person with ID \"96173220P\"?\n",
        "\n",
        "Change the name associated with the key \"41588605M\" to \"Roberto Martinez\".\n",
        "\n",
        "Delete the entry corresponding to the key \"96173220P\".\n",
        "    \n",
        "Print the length of the dictionary\n",
        "\n",
        "Print whether or not the key \"99114051J\" is in the dictionary (True or False)\n",
        "\n",
        "Print the dictionary keys\n",
        "\n",
        "Print the dictionary values\n",
        "\n",
        "Make a copy of the dictionary in a new variable thats allows you to modify the values in this new variable while the values in the original stay the same. Prove this by showcasing both"
      ]
    },
    {
      "cell_type": "code",
      "id": "d8fd64e4-b69a-4088-85a7-9b30b9b59f89",
      "metadata": {
        "ExecuteTime": {
          "end_time": "2025-01-26T08:57:07.088095Z",
          "start_time": "2025-01-26T08:57:07.086394Z"
        },
        "id": "d8fd64e4-b69a-4088-85a7-9b30b9b59f89",
        "outputId": "922cc91e-04df-451f-b63e-16581a4184a0",
        "colab": {
          "base_uri": "https://localhost:8080/"
        }
      },
      "source": [
        "#Create an empty dictionary and fill it with this data (key-value pairs):\n",
        "hiztegia = {\"58195348N\": \"Pepito Pérez\",\n",
        "\"96173220P\": \"Juanito Martínez\",\n",
        "\"43740289Q\": \"Adolfo Rodríguez\",\n",
        "\"41588605M\": \"Roberto García\"}\n",
        "type(hiztegia)\n",
        "\n",
        "#Query the dictionary, what is the name of the person with ID \"96173220P\"?\n",
        "# Access using key\n",
        "print(hiztegia[\"96173220P\"])\n",
        "\n",
        "#Change the name associated with the key \"41588605M\" to \"Roberto Martinez\".\n",
        "\n",
        "hiztegia['41588605M'] = \"Roberto Martinez\"\n",
        "hiztegia\n",
        "\n",
        "#Delete the entry corresponding to the key \"96173220P\".\n",
        "hiztegia.pop(\"96173220P\")\n",
        "hiztegia\n",
        "\n",
        "\n",
        "#rint the length of the dictionary\n",
        "len(hiztegia)\n",
        "\n",
        "#Print whether or not the key \"99114051J\" is in the dictionary (True or False)\n",
        "'99114051J' in hiztegia\n",
        "\n",
        "#Print the dictionary keys\n",
        "\n",
        "hiztegia.keys()\n",
        "\n",
        "#Print the dictionary values\n",
        "\n",
        "hiztegia.values()\n",
        "\n",
        "#Make a copy of the dictionary in a new variable thats allows you to modify the values in this new variable while the values in the original stay the same. Prove this by showcasing both\n",
        "\n",
        "hiztegia2 = hiztegia.copy()\n",
        "\n",
        "hiztegia2[\"alex\"] = \"nere mattie\"\n",
        "print(\"Lelengo hiztegiaren balioak:\", hiztegia, \"eta bigarrena hiztegiarenak:\", hiztegia2)\n",
        "\n",
        "\n",
        "\n"
      ],
      "outputs": [
        {
          "output_type": "stream",
          "name": "stdout",
          "text": [
            "Juanito Martínez\n",
            "Lelengo hiztegiaren balioak: {'58195348N': 'Pepito Pérez', '43740289Q': 'Adolfo Rodríguez', '41588605M': 'Roberto Martinez'} eta bigarrena hiztegiarenak: {'58195348N': 'Pepito Pérez', '43740289Q': 'Adolfo Rodríguez', '41588605M': 'Roberto Martinez', 'alex': 'nere mattie'}\n"
          ]
        }
      ],
      "execution_count": null
    },
    {
      "cell_type": "markdown",
      "id": "2c71d523-7b35-429c-8ae0-fc136e3ea353",
      "metadata": {
        "id": "2c71d523-7b35-429c-8ae0-fc136e3ea353"
      },
      "source": [
        "## 5) Working with sets\n",
        "Create a list with the following values\n",
        "<li>[1,2,2,2,3,2,3,5,1]\n",
        "<br><br>\n",
        "\n",
        "Convert this list to another list that does not contain repeated elements.\n",
        "\n",
        "Create the following two sets:\n",
        "<li>set_1 = {1,2,3,3,4,5}\n",
        "<li>set_2 = {3,4,5,5,6,7}\n",
        "<br><br>\n",
        "    \n",
        "Check if element 10 is in set_1.\n",
        "\n",
        "Are they disjoint sets?\n",
        "\n",
        "Is set_1 a subset of set_2?\n",
        "    \n",
        "Calculate the elements that are in set_1 but not in set_2.\n",
        "    \n",
        "Calculate the elements common to both sets"
      ]
    },
    {
      "cell_type": "code",
      "id": "e270035f-196b-4362-8271-3e85b7b3c7d5",
      "metadata": {
        "ExecuteTime": {
          "end_time": "2025-01-26T08:57:07.546047Z",
          "start_time": "2025-01-26T08:57:07.543645Z"
        },
        "id": "e270035f-196b-4362-8271-3e85b7b3c7d5",
        "outputId": "028ff44c-0048-4a7f-a9be-63f74448aeb6",
        "colab": {
          "base_uri": "https://localhost:8080/"
        }
      },
      "source": [
        "lista = [1,2,2,2,3,2,3,5,1]\n",
        "\n",
        "lista_norepeat = set(lista)\n",
        "lista_norepeat\n",
        "\n",
        "\n",
        "set_1 = {1,2,3,3,4,5}\n",
        "set_2 = {3,4,5,5,6,7}\n",
        "\n",
        "#Check if element 10 is in set_1.\n",
        "\n",
        "if 10 in set_1:\n",
        "  print(\"Bai, 10 amentxe dao\")\n",
        "\n",
        "#Are they disjoint sets?\n",
        "\n",
        "if set_1.isdisjoint(set_2):\n",
        "  print(\"Disjoint emateu dala.\")\n",
        "else:\n",
        "  print(\"Ba eztie disjoint.\")\n",
        "\n",
        "#Is set_1 a subset of set_2?\n",
        "\n",
        "if set_1.issubset(set_2):\n",
        "  print(\"Subset emateu dala.\")\n",
        "else:\n",
        "  print(\"Ba ezta subset.\")\n",
        "\n",
        "#Calculate the elements that are in set_1 but not in set_2.\n",
        "set_diff = set_1.difference(set_2)\n",
        "if set_diff:\n",
        "    print (set_diff, \"Sobritan daude\")\n",
        "else:\n",
        "    print (\"Sobritan eztaude\")\n",
        "\n",
        "#Calculate the elements common to both sets\n",
        "\n",
        "common_elements = set_1.intersection(set_2)\n",
        "print(common_elements, \"daude iguelak oix!\")\n"
      ],
      "outputs": [
        {
          "output_type": "stream",
          "name": "stdout",
          "text": [
            "Ba eztie disjoint.\n",
            "Ba ezta subset.\n",
            "{1, 2} Sobritan daude\n",
            "{3, 4, 5} daude iguelak oix!\n"
          ]
        }
      ],
      "execution_count": 18
    },
    {
      "metadata": {
        "id": "895f4dec4c5cda03"
      },
      "cell_type": "markdown",
      "source": [
        "## 6) Working with for and while.\n",
        "\n",
        "We have the following lists:\n",
        "<li>char_list = [\"a\", \"b\", \"c\", \"d\"]\n",
        "<li>num_list = [1, 2, 3, 3, 4]\n",
        "<br><br>\n",
        "\n",
        "Perform a for loop that goes through num_list and prints its values and also the character that is in the same position in char_list.\n",
        "Handle any potential exception so that the program does not finish with an error"
      ],
      "id": "895f4dec4c5cda03"
    },
    {
      "metadata": {
        "ExecuteTime": {
          "end_time": "2025-01-26T08:57:08.215058Z",
          "start_time": "2025-01-26T08:57:08.210687Z"
        },
        "id": "b57517f372339ff0",
        "outputId": "d9c697b2-98fd-4626-819d-eaf2dac07bef",
        "colab": {
          "base_uri": "https://localhost:8080/"
        }
      },
      "cell_type": "code",
      "source": [
        "char_list = [\"a\", \"b\", \"c\", \"d\"]\n",
        "num_list = [1, 2, 3, 3, 4]\n",
        "\n",
        "\n",
        "\n",
        "for x in num_list:\n",
        "  try:\n",
        "    print(x, char_list[x])\n",
        "  except Exception as e:\n",
        "    print(\"The error has been\", e)\n",
        "\n"
      ],
      "id": "b57517f372339ff0",
      "outputs": [
        {
          "output_type": "stream",
          "name": "stdout",
          "text": [
            "1 b\n",
            "2 c\n",
            "3 d\n",
            "3 d\n",
            "The error has been list index out of range\n"
          ]
        }
      ],
      "execution_count": 23
    },
    {
      "metadata": {
        "id": "575c1603309674cf"
      },
      "cell_type": "markdown",
      "source": [
        "## 7) Working with for and while.\n",
        "Given a matrix (a list of lists) matrix where each sub-list represents a row of the matrix, write a script that transposes the matrix (converts rows to columns and vice versa) using nested for-loops. Additionally, use an if-statement to replace any negative number with 0 in the transposed matrix. Print the transposed matrix."
      ],
      "id": "575c1603309674cf"
    },
    {
      "metadata": {
        "ExecuteTime": {
          "end_time": "2025-01-26T08:57:09.021577Z",
          "start_time": "2025-01-26T08:57:09.019239Z"
        },
        "id": "9c5f51b748920bc1",
        "outputId": "97e4a8a2-4489-4626-b472-bb05a541b6ae",
        "colab": {
          "base_uri": "https://localhost:8080/",
          "height": 216
        }
      },
      "cell_type": "code",
      "source": [
        "input_matrix = [\n",
        "    [1, -2, 3],\n",
        "    [-4, 5, -6],\n",
        "    [7, -8, 9]\n",
        "]\n",
        "\n",
        "transpose = T(input_matrix)\n",
        "\n",
        "expected_output = [\n",
        "    [1, 0, 7],\n",
        "    [0, 5, 0],\n",
        "    [3, 0, 9]\n",
        "]\n"
      ],
      "id": "9c5f51b748920bc1",
      "outputs": [
        {
          "output_type": "error",
          "ename": "NameError",
          "evalue": "name 'T' is not defined",
          "traceback": [
            "\u001b[0;31m---------------------------------------------------------------------------\u001b[0m",
            "\u001b[0;31mNameError\u001b[0m                                 Traceback (most recent call last)",
            "\u001b[0;32m<ipython-input-24-60f1c8da202e>\u001b[0m in \u001b[0;36m<cell line: 0>\u001b[0;34m()\u001b[0m\n\u001b[1;32m      5\u001b[0m ]\n\u001b[1;32m      6\u001b[0m \u001b[0;34m\u001b[0m\u001b[0m\n\u001b[0;32m----> 7\u001b[0;31m \u001b[0mtranspose\u001b[0m \u001b[0;34m=\u001b[0m \u001b[0mT\u001b[0m\u001b[0;34m(\u001b[0m\u001b[0minput_matrix\u001b[0m\u001b[0;34m)\u001b[0m\u001b[0;34m\u001b[0m\u001b[0;34m\u001b[0m\u001b[0m\n\u001b[0m\u001b[1;32m      8\u001b[0m \u001b[0;34m\u001b[0m\u001b[0m\n\u001b[1;32m      9\u001b[0m expected_output = [\n",
            "\u001b[0;31mNameError\u001b[0m: name 'T' is not defined"
          ]
        }
      ],
      "execution_count": 24
    },
    {
      "metadata": {
        "id": "3a755a51cccc483a"
      },
      "cell_type": "code",
      "outputs": [],
      "execution_count": null,
      "source": [],
      "id": "3a755a51cccc483a"
    }
  ],
  "metadata": {
    "kernelspec": {
      "display_name": "Python 3 (ipykernel)",
      "language": "python",
      "name": "python3"
    },
    "language_info": {
      "codemirror_mode": {
        "name": "ipython",
        "version": 3
      },
      "file_extension": ".py",
      "mimetype": "text/x-python",
      "name": "python",
      "nbconvert_exporter": "python",
      "pygments_lexer": "ipython3",
      "version": "3.11.7"
    },
    "colab": {
      "provenance": [],
      "toc_visible": true,
      "include_colab_link": true
    }
  },
  "nbformat": 4,
  "nbformat_minor": 5
}